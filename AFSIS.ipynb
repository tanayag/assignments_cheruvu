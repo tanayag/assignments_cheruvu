{
 "cells": [
  {
   "cell_type": "code",
   "execution_count": 1,
   "metadata": {
    "collapsed": true
   },
   "outputs": [],
   "source": [
    "import pandas as pd\n",
    "import numpy as np\n",
    "from sklearn.preprocessing import LabelEncoder\n",
    "import random"
   ]
  },
  {
   "cell_type": "code",
   "execution_count": 2,
   "metadata": {
    "collapsed": true
   },
   "outputs": [],
   "source": [
    "train = pd.read_csv(\"training.csv\")\n",
    "test = pd.read_csv(\"sorted_test.csv\")"
   ]
  },
  {
   "cell_type": "code",
   "execution_count": 3,
   "metadata": {
    "collapsed": false
   },
   "outputs": [
    {
     "data": {
      "text/html": [
       "<div>\n",
       "<table border=\"1\" class=\"dataframe\">\n",
       "  <thead>\n",
       "    <tr style=\"text-align: right;\">\n",
       "      <th></th>\n",
       "      <th>PIDN</th>\n",
       "      <th>m7497.96</th>\n",
       "      <th>m7496.04</th>\n",
       "      <th>m7494.11</th>\n",
       "      <th>m7492.18</th>\n",
       "      <th>m7490.25</th>\n",
       "      <th>m7488.32</th>\n",
       "      <th>m7486.39</th>\n",
       "      <th>m7484.46</th>\n",
       "      <th>m7482.54</th>\n",
       "      <th>...</th>\n",
       "      <th>REF7</th>\n",
       "      <th>RELI</th>\n",
       "      <th>TMAP</th>\n",
       "      <th>TMFI</th>\n",
       "      <th>Depth</th>\n",
       "      <th>Ca</th>\n",
       "      <th>P</th>\n",
       "      <th>pH</th>\n",
       "      <th>SOC</th>\n",
       "      <th>Sand</th>\n",
       "    </tr>\n",
       "  </thead>\n",
       "  <tbody>\n",
       "    <tr>\n",
       "      <th>0</th>\n",
       "      <td>XNhoFZW5</td>\n",
       "      <td>0.302553</td>\n",
       "      <td>0.301137</td>\n",
       "      <td>0.299748</td>\n",
       "      <td>0.300354</td>\n",
       "      <td>0.302679</td>\n",
       "      <td>0.303799</td>\n",
       "      <td>0.301702</td>\n",
       "      <td>0.298936</td>\n",
       "      <td>0.298126</td>\n",
       "      <td>...</td>\n",
       "      <td>-0.646673</td>\n",
       "      <td>1.687734</td>\n",
       "      <td>0.190708</td>\n",
       "      <td>0.056843</td>\n",
       "      <td>Topsoil</td>\n",
       "      <td>-0.295749</td>\n",
       "      <td>-0.041336</td>\n",
       "      <td>-1.129366</td>\n",
       "      <td>0.353258</td>\n",
       "      <td>1.269748</td>\n",
       "    </tr>\n",
       "    <tr>\n",
       "      <th>1</th>\n",
       "      <td>9XNspFTd</td>\n",
       "      <td>0.270192</td>\n",
       "      <td>0.268555</td>\n",
       "      <td>0.266964</td>\n",
       "      <td>0.267938</td>\n",
       "      <td>0.271013</td>\n",
       "      <td>0.272346</td>\n",
       "      <td>0.269870</td>\n",
       "      <td>0.266976</td>\n",
       "      <td>0.266544</td>\n",
       "      <td>...</td>\n",
       "      <td>-0.646673</td>\n",
       "      <td>1.687734</td>\n",
       "      <td>0.190708</td>\n",
       "      <td>0.056843</td>\n",
       "      <td>Subsoil</td>\n",
       "      <td>-0.387442</td>\n",
       "      <td>-0.231552</td>\n",
       "      <td>-1.531538</td>\n",
       "      <td>-0.264023</td>\n",
       "      <td>1.692209</td>\n",
       "    </tr>\n",
       "    <tr>\n",
       "      <th>2</th>\n",
       "      <td>WDId41qG</td>\n",
       "      <td>0.317433</td>\n",
       "      <td>0.316265</td>\n",
       "      <td>0.314948</td>\n",
       "      <td>0.315224</td>\n",
       "      <td>0.316942</td>\n",
       "      <td>0.317764</td>\n",
       "      <td>0.316067</td>\n",
       "      <td>0.313874</td>\n",
       "      <td>0.313301</td>\n",
       "      <td>...</td>\n",
       "      <td>-0.814516</td>\n",
       "      <td>1.806660</td>\n",
       "      <td>0.190708</td>\n",
       "      <td>0.056843</td>\n",
       "      <td>Topsoil</td>\n",
       "      <td>-0.248601</td>\n",
       "      <td>-0.224635</td>\n",
       "      <td>-0.259551</td>\n",
       "      <td>0.064152</td>\n",
       "      <td>2.091835</td>\n",
       "    </tr>\n",
       "    <tr>\n",
       "      <th>3</th>\n",
       "      <td>JrrJf1mN</td>\n",
       "      <td>0.261116</td>\n",
       "      <td>0.259767</td>\n",
       "      <td>0.258384</td>\n",
       "      <td>0.259001</td>\n",
       "      <td>0.261310</td>\n",
       "      <td>0.262417</td>\n",
       "      <td>0.260534</td>\n",
       "      <td>0.258039</td>\n",
       "      <td>0.257246</td>\n",
       "      <td>...</td>\n",
       "      <td>-0.814516</td>\n",
       "      <td>1.806660</td>\n",
       "      <td>0.190708</td>\n",
       "      <td>0.056843</td>\n",
       "      <td>Subsoil</td>\n",
       "      <td>-0.332195</td>\n",
       "      <td>-0.318014</td>\n",
       "      <td>-0.577548</td>\n",
       "      <td>-0.318719</td>\n",
       "      <td>2.118477</td>\n",
       "    </tr>\n",
       "    <tr>\n",
       "      <th>4</th>\n",
       "      <td>ZoIitegA</td>\n",
       "      <td>0.260038</td>\n",
       "      <td>0.258425</td>\n",
       "      <td>0.256544</td>\n",
       "      <td>0.257030</td>\n",
       "      <td>0.259602</td>\n",
       "      <td>0.260786</td>\n",
       "      <td>0.258717</td>\n",
       "      <td>0.256352</td>\n",
       "      <td>0.255902</td>\n",
       "      <td>...</td>\n",
       "      <td>-0.780242</td>\n",
       "      <td>0.430513</td>\n",
       "      <td>0.190708</td>\n",
       "      <td>0.056843</td>\n",
       "      <td>Topsoil</td>\n",
       "      <td>-0.438350</td>\n",
       "      <td>-0.010210</td>\n",
       "      <td>-0.699135</td>\n",
       "      <td>-0.310905</td>\n",
       "      <td>2.164148</td>\n",
       "    </tr>\n",
       "  </tbody>\n",
       "</table>\n",
       "<p>5 rows × 3600 columns</p>\n",
       "</div>"
      ],
      "text/plain": [
       "       PIDN  m7497.96  m7496.04  m7494.11  m7492.18  m7490.25  m7488.32  \\\n",
       "0  XNhoFZW5  0.302553  0.301137  0.299748  0.300354  0.302679  0.303799   \n",
       "1  9XNspFTd  0.270192  0.268555  0.266964  0.267938  0.271013  0.272346   \n",
       "2  WDId41qG  0.317433  0.316265  0.314948  0.315224  0.316942  0.317764   \n",
       "3  JrrJf1mN  0.261116  0.259767  0.258384  0.259001  0.261310  0.262417   \n",
       "4  ZoIitegA  0.260038  0.258425  0.256544  0.257030  0.259602  0.260786   \n",
       "\n",
       "   m7486.39  m7484.46  m7482.54    ...         REF7      RELI      TMAP  \\\n",
       "0  0.301702  0.298936  0.298126    ...    -0.646673  1.687734  0.190708   \n",
       "1  0.269870  0.266976  0.266544    ...    -0.646673  1.687734  0.190708   \n",
       "2  0.316067  0.313874  0.313301    ...    -0.814516  1.806660  0.190708   \n",
       "3  0.260534  0.258039  0.257246    ...    -0.814516  1.806660  0.190708   \n",
       "4  0.258717  0.256352  0.255902    ...    -0.780242  0.430513  0.190708   \n",
       "\n",
       "       TMFI    Depth        Ca         P        pH       SOC      Sand  \n",
       "0  0.056843  Topsoil -0.295749 -0.041336 -1.129366  0.353258  1.269748  \n",
       "1  0.056843  Subsoil -0.387442 -0.231552 -1.531538 -0.264023  1.692209  \n",
       "2  0.056843  Topsoil -0.248601 -0.224635 -0.259551  0.064152  2.091835  \n",
       "3  0.056843  Subsoil -0.332195 -0.318014 -0.577548 -0.318719  2.118477  \n",
       "4  0.056843  Topsoil -0.438350 -0.010210 -0.699135 -0.310905  2.164148  \n",
       "\n",
       "[5 rows x 3600 columns]"
      ]
     },
     "execution_count": 3,
     "metadata": {},
     "output_type": "execute_result"
    }
   ],
   "source": [
    "train.head()"
   ]
  },
  {
   "cell_type": "code",
   "execution_count": 4,
   "metadata": {
    "collapsed": true
   },
   "outputs": [],
   "source": [
    "train.drop(\"PIDN\",axis=1,inplace=True)"
   ]
  },
  {
   "cell_type": "code",
   "execution_count": 5,
   "metadata": {
    "collapsed": true
   },
   "outputs": [],
   "source": [
    "l = LabelEncoder()\n",
    "train[\"Depth\"] = l.fit_transform(train[\"Depth\"])"
   ]
  },
  {
   "cell_type": "code",
   "execution_count": 161,
   "metadata": {
    "collapsed": true
   },
   "outputs": [],
   "source": [
    "l = LabelEncoder()\n",
    "test[\"Depth\"] = l.fit_transform(test[\"Depth\"])"
   ]
  },
  {
   "cell_type": "code",
   "execution_count": 6,
   "metadata": {
    "collapsed": false
   },
   "outputs": [],
   "source": [
    "train = train[train.apply(lambda x: np.abs(x - x.mean()) / x.std() < 6).all(axis=1)]"
   ]
  },
  {
   "cell_type": "code",
   "execution_count": 7,
   "metadata": {
    "collapsed": false
   },
   "outputs": [
    {
     "data": {
      "text/plain": [
       "1143"
      ]
     },
     "execution_count": 7,
     "metadata": {},
     "output_type": "execute_result"
    }
   ],
   "source": [
    "len(train)"
   ]
  },
  {
   "cell_type": "code",
   "execution_count": 8,
   "metadata": {
    "collapsed": false
   },
   "outputs": [],
   "source": [
    "features= list(train.keys())"
   ]
  },
  {
   "cell_type": "code",
   "execution_count": null,
   "metadata": {
    "collapsed": false
   },
   "outputs": [],
   "source": []
  },
  {
   "cell_type": "code",
   "execution_count": 9,
   "metadata": {
    "collapsed": false
   },
   "outputs": [],
   "source": [
    "y_train = train.iloc[:,-5:]"
   ]
  },
  {
   "cell_type": "code",
   "execution_count": 10,
   "metadata": {
    "collapsed": false
   },
   "outputs": [
    {
     "data": {
      "text/html": [
       "<div>\n",
       "<table border=\"1\" class=\"dataframe\">\n",
       "  <thead>\n",
       "    <tr style=\"text-align: right;\">\n",
       "      <th></th>\n",
       "      <th>Ca</th>\n",
       "      <th>P</th>\n",
       "      <th>pH</th>\n",
       "      <th>SOC</th>\n",
       "      <th>Sand</th>\n",
       "    </tr>\n",
       "  </thead>\n",
       "  <tbody>\n",
       "    <tr>\n",
       "      <th>0</th>\n",
       "      <td>-0.295749</td>\n",
       "      <td>-0.041336</td>\n",
       "      <td>-1.129366</td>\n",
       "      <td>0.353258</td>\n",
       "      <td>1.269748</td>\n",
       "    </tr>\n",
       "    <tr>\n",
       "      <th>1</th>\n",
       "      <td>-0.387442</td>\n",
       "      <td>-0.231552</td>\n",
       "      <td>-1.531538</td>\n",
       "      <td>-0.264023</td>\n",
       "      <td>1.692209</td>\n",
       "    </tr>\n",
       "    <tr>\n",
       "      <th>2</th>\n",
       "      <td>-0.248601</td>\n",
       "      <td>-0.224635</td>\n",
       "      <td>-0.259551</td>\n",
       "      <td>0.064152</td>\n",
       "      <td>2.091835</td>\n",
       "    </tr>\n",
       "    <tr>\n",
       "      <th>3</th>\n",
       "      <td>-0.332195</td>\n",
       "      <td>-0.318014</td>\n",
       "      <td>-0.577548</td>\n",
       "      <td>-0.318719</td>\n",
       "      <td>2.118477</td>\n",
       "    </tr>\n",
       "    <tr>\n",
       "      <th>4</th>\n",
       "      <td>-0.438350</td>\n",
       "      <td>-0.010210</td>\n",
       "      <td>-0.699135</td>\n",
       "      <td>-0.310905</td>\n",
       "      <td>2.164148</td>\n",
       "    </tr>\n",
       "  </tbody>\n",
       "</table>\n",
       "</div>"
      ],
      "text/plain": [
       "         Ca         P        pH       SOC      Sand\n",
       "0 -0.295749 -0.041336 -1.129366  0.353258  1.269748\n",
       "1 -0.387442 -0.231552 -1.531538 -0.264023  1.692209\n",
       "2 -0.248601 -0.224635 -0.259551  0.064152  2.091835\n",
       "3 -0.332195 -0.318014 -0.577548 -0.318719  2.118477\n",
       "4 -0.438350 -0.010210 -0.699135 -0.310905  2.164148"
      ]
     },
     "execution_count": 10,
     "metadata": {},
     "output_type": "execute_result"
    }
   ],
   "source": [
    "y_train.head()"
   ]
  },
  {
   "cell_type": "code",
   "execution_count": 11,
   "metadata": {
    "collapsed": false
   },
   "outputs": [],
   "source": [
    "x_train = train.drop([\"Ca\",\"P\",\"pH\",\"SOC\",\"Sand\"],axis=1)"
   ]
  },
  {
   "cell_type": "code",
   "execution_count": 12,
   "metadata": {
    "collapsed": false
   },
   "outputs": [
    {
     "data": {
      "text/html": [
       "<div>\n",
       "<table border=\"1\" class=\"dataframe\">\n",
       "  <thead>\n",
       "    <tr style=\"text-align: right;\">\n",
       "      <th></th>\n",
       "      <th>m7497.96</th>\n",
       "      <th>m7496.04</th>\n",
       "      <th>m7494.11</th>\n",
       "      <th>m7492.18</th>\n",
       "      <th>m7490.25</th>\n",
       "      <th>m7488.32</th>\n",
       "      <th>m7486.39</th>\n",
       "      <th>m7484.46</th>\n",
       "      <th>m7482.54</th>\n",
       "      <th>m7480.61</th>\n",
       "      <th>...</th>\n",
       "      <th>LSTD</th>\n",
       "      <th>LSTN</th>\n",
       "      <th>REF1</th>\n",
       "      <th>REF2</th>\n",
       "      <th>REF3</th>\n",
       "      <th>REF7</th>\n",
       "      <th>RELI</th>\n",
       "      <th>TMAP</th>\n",
       "      <th>TMFI</th>\n",
       "      <th>Depth</th>\n",
       "    </tr>\n",
       "  </thead>\n",
       "  <tbody>\n",
       "    <tr>\n",
       "      <th>0</th>\n",
       "      <td>0.302553</td>\n",
       "      <td>0.301137</td>\n",
       "      <td>0.299748</td>\n",
       "      <td>0.300354</td>\n",
       "      <td>0.302679</td>\n",
       "      <td>0.303799</td>\n",
       "      <td>0.301702</td>\n",
       "      <td>0.298936</td>\n",
       "      <td>0.298126</td>\n",
       "      <td>0.298120</td>\n",
       "      <td>...</td>\n",
       "      <td>-0.716713</td>\n",
       "      <td>-0.090016</td>\n",
       "      <td>-0.861091</td>\n",
       "      <td>-0.537106</td>\n",
       "      <td>-0.722567</td>\n",
       "      <td>-0.646673</td>\n",
       "      <td>1.687734</td>\n",
       "      <td>0.190708</td>\n",
       "      <td>0.056843</td>\n",
       "      <td>1</td>\n",
       "    </tr>\n",
       "    <tr>\n",
       "      <th>1</th>\n",
       "      <td>0.270192</td>\n",
       "      <td>0.268555</td>\n",
       "      <td>0.266964</td>\n",
       "      <td>0.267938</td>\n",
       "      <td>0.271013</td>\n",
       "      <td>0.272346</td>\n",
       "      <td>0.269870</td>\n",
       "      <td>0.266976</td>\n",
       "      <td>0.266544</td>\n",
       "      <td>0.266766</td>\n",
       "      <td>...</td>\n",
       "      <td>-0.716713</td>\n",
       "      <td>-0.090016</td>\n",
       "      <td>-0.861091</td>\n",
       "      <td>-0.537106</td>\n",
       "      <td>-0.722567</td>\n",
       "      <td>-0.646673</td>\n",
       "      <td>1.687734</td>\n",
       "      <td>0.190708</td>\n",
       "      <td>0.056843</td>\n",
       "      <td>0</td>\n",
       "    </tr>\n",
       "    <tr>\n",
       "      <th>2</th>\n",
       "      <td>0.317433</td>\n",
       "      <td>0.316265</td>\n",
       "      <td>0.314948</td>\n",
       "      <td>0.315224</td>\n",
       "      <td>0.316942</td>\n",
       "      <td>0.317764</td>\n",
       "      <td>0.316067</td>\n",
       "      <td>0.313874</td>\n",
       "      <td>0.313301</td>\n",
       "      <td>0.313296</td>\n",
       "      <td>...</td>\n",
       "      <td>-1.282552</td>\n",
       "      <td>-0.088336</td>\n",
       "      <td>-0.935273</td>\n",
       "      <td>-0.631725</td>\n",
       "      <td>-0.832298</td>\n",
       "      <td>-0.814516</td>\n",
       "      <td>1.806660</td>\n",
       "      <td>0.190708</td>\n",
       "      <td>0.056843</td>\n",
       "      <td>1</td>\n",
       "    </tr>\n",
       "    <tr>\n",
       "      <th>3</th>\n",
       "      <td>0.261116</td>\n",
       "      <td>0.259767</td>\n",
       "      <td>0.258384</td>\n",
       "      <td>0.259001</td>\n",
       "      <td>0.261310</td>\n",
       "      <td>0.262417</td>\n",
       "      <td>0.260534</td>\n",
       "      <td>0.258039</td>\n",
       "      <td>0.257246</td>\n",
       "      <td>0.257124</td>\n",
       "      <td>...</td>\n",
       "      <td>-1.282552</td>\n",
       "      <td>-0.088336</td>\n",
       "      <td>-0.935273</td>\n",
       "      <td>-0.631725</td>\n",
       "      <td>-0.832298</td>\n",
       "      <td>-0.814516</td>\n",
       "      <td>1.806660</td>\n",
       "      <td>0.190708</td>\n",
       "      <td>0.056843</td>\n",
       "      <td>0</td>\n",
       "    </tr>\n",
       "    <tr>\n",
       "      <th>4</th>\n",
       "      <td>0.260038</td>\n",
       "      <td>0.258425</td>\n",
       "      <td>0.256544</td>\n",
       "      <td>0.257030</td>\n",
       "      <td>0.259602</td>\n",
       "      <td>0.260786</td>\n",
       "      <td>0.258717</td>\n",
       "      <td>0.256352</td>\n",
       "      <td>0.255902</td>\n",
       "      <td>0.255822</td>\n",
       "      <td>...</td>\n",
       "      <td>-1.206971</td>\n",
       "      <td>0.011420</td>\n",
       "      <td>-0.906182</td>\n",
       "      <td>-0.528757</td>\n",
       "      <td>-0.795031</td>\n",
       "      <td>-0.780242</td>\n",
       "      <td>0.430513</td>\n",
       "      <td>0.190708</td>\n",
       "      <td>0.056843</td>\n",
       "      <td>1</td>\n",
       "    </tr>\n",
       "  </tbody>\n",
       "</table>\n",
       "<p>5 rows × 3594 columns</p>\n",
       "</div>"
      ],
      "text/plain": [
       "   m7497.96  m7496.04  m7494.11  m7492.18  m7490.25  m7488.32  m7486.39  \\\n",
       "0  0.302553  0.301137  0.299748  0.300354  0.302679  0.303799  0.301702   \n",
       "1  0.270192  0.268555  0.266964  0.267938  0.271013  0.272346  0.269870   \n",
       "2  0.317433  0.316265  0.314948  0.315224  0.316942  0.317764  0.316067   \n",
       "3  0.261116  0.259767  0.258384  0.259001  0.261310  0.262417  0.260534   \n",
       "4  0.260038  0.258425  0.256544  0.257030  0.259602  0.260786  0.258717   \n",
       "\n",
       "   m7484.46  m7482.54  m7480.61  ...        LSTD      LSTN      REF1  \\\n",
       "0  0.298936  0.298126  0.298120  ...   -0.716713 -0.090016 -0.861091   \n",
       "1  0.266976  0.266544  0.266766  ...   -0.716713 -0.090016 -0.861091   \n",
       "2  0.313874  0.313301  0.313296  ...   -1.282552 -0.088336 -0.935273   \n",
       "3  0.258039  0.257246  0.257124  ...   -1.282552 -0.088336 -0.935273   \n",
       "4  0.256352  0.255902  0.255822  ...   -1.206971  0.011420 -0.906182   \n",
       "\n",
       "       REF2      REF3      REF7      RELI      TMAP      TMFI  Depth  \n",
       "0 -0.537106 -0.722567 -0.646673  1.687734  0.190708  0.056843      1  \n",
       "1 -0.537106 -0.722567 -0.646673  1.687734  0.190708  0.056843      0  \n",
       "2 -0.631725 -0.832298 -0.814516  1.806660  0.190708  0.056843      1  \n",
       "3 -0.631725 -0.832298 -0.814516  1.806660  0.190708  0.056843      0  \n",
       "4 -0.528757 -0.795031 -0.780242  0.430513  0.190708  0.056843      1  \n",
       "\n",
       "[5 rows x 3594 columns]"
      ]
     },
     "execution_count": 12,
     "metadata": {},
     "output_type": "execute_result"
    }
   ],
   "source": [
    "x_train.head()"
   ]
  },
  {
   "cell_type": "code",
   "execution_count": 13,
   "metadata": {
    "collapsed": false
   },
   "outputs": [
    {
     "data": {
      "text/plain": [
       "3594"
      ]
     },
     "execution_count": 13,
     "metadata": {},
     "output_type": "execute_result"
    }
   ],
   "source": [
    "len(x_train.keys())"
   ]
  },
  {
   "cell_type": "code",
   "execution_count": 14,
   "metadata": {
    "collapsed": false
   },
   "outputs": [
    {
     "data": {
      "text/plain": [
       "3595"
      ]
     },
     "execution_count": 14,
     "metadata": {},
     "output_type": "execute_result"
    }
   ],
   "source": [
    "len(test.keys())"
   ]
  },
  {
   "cell_type": "code",
   "execution_count": 15,
   "metadata": {
    "collapsed": false
   },
   "outputs": [],
   "source": [
    "#test.keys()"
   ]
  },
  {
   "cell_type": "code",
   "execution_count": 16,
   "metadata": {
    "collapsed": false
   },
   "outputs": [],
   "source": [
    "remove_co2 = []\n",
    "for i in range(237976,235277,-1):\n",
    "    remove_co2.append('m'+str(i/100.0))"
   ]
  },
  {
   "cell_type": "code",
   "execution_count": 17,
   "metadata": {
    "collapsed": false
   },
   "outputs": [],
   "source": [
    "for i in remove_co2:\n",
    "    try:\n",
    "        x_train.drop([i],axis=1,inplace=True)\n",
    "    except:\n",
    "        pass\n",
    "    \n",
    "    try:\n",
    "        test.drop([i],axis=1,inplace=True)\n",
    "    except:\n",
    "        pass"
   ]
  },
  {
   "cell_type": "code",
   "execution_count": 18,
   "metadata": {
    "collapsed": false
   },
   "outputs": [],
   "source": [
    "test.drop(\"PIDN\",axis=1,inplace=True)"
   ]
  },
  {
   "cell_type": "code",
   "execution_count": 19,
   "metadata": {
    "collapsed": false
   },
   "outputs": [
    {
     "data": {
      "text/plain": [
       "3580"
      ]
     },
     "execution_count": 19,
     "metadata": {},
     "output_type": "execute_result"
    }
   ],
   "source": [
    "len(test.keys())"
   ]
  },
  {
   "cell_type": "code",
   "execution_count": 20,
   "metadata": {
    "collapsed": false
   },
   "outputs": [
    {
     "data": {
      "text/plain": [
       "3580"
      ]
     },
     "execution_count": 20,
     "metadata": {},
     "output_type": "execute_result"
    }
   ],
   "source": [
    "len(x_train.keys())"
   ]
  },
  {
   "cell_type": "code",
   "execution_count": 21,
   "metadata": {
    "collapsed": false
   },
   "outputs": [
    {
     "data": {
      "text/html": [
       "<div>\n",
       "<table border=\"1\" class=\"dataframe\">\n",
       "  <thead>\n",
       "    <tr style=\"text-align: right;\">\n",
       "      <th></th>\n",
       "      <th>m7497.96</th>\n",
       "      <th>m7496.04</th>\n",
       "      <th>m7494.11</th>\n",
       "      <th>m7492.18</th>\n",
       "      <th>m7490.25</th>\n",
       "      <th>m7488.32</th>\n",
       "      <th>m7486.39</th>\n",
       "      <th>m7484.46</th>\n",
       "      <th>m7482.54</th>\n",
       "      <th>m7480.61</th>\n",
       "      <th>...</th>\n",
       "      <th>LSTD</th>\n",
       "      <th>LSTN</th>\n",
       "      <th>REF1</th>\n",
       "      <th>REF2</th>\n",
       "      <th>REF3</th>\n",
       "      <th>REF7</th>\n",
       "      <th>RELI</th>\n",
       "      <th>TMAP</th>\n",
       "      <th>TMFI</th>\n",
       "      <th>Depth</th>\n",
       "    </tr>\n",
       "  </thead>\n",
       "  <tbody>\n",
       "    <tr>\n",
       "      <th>0</th>\n",
       "      <td>0.302553</td>\n",
       "      <td>0.301137</td>\n",
       "      <td>0.299748</td>\n",
       "      <td>0.300354</td>\n",
       "      <td>0.302679</td>\n",
       "      <td>0.303799</td>\n",
       "      <td>0.301702</td>\n",
       "      <td>0.298936</td>\n",
       "      <td>0.298126</td>\n",
       "      <td>0.298120</td>\n",
       "      <td>...</td>\n",
       "      <td>-0.716713</td>\n",
       "      <td>-0.090016</td>\n",
       "      <td>-0.861091</td>\n",
       "      <td>-0.537106</td>\n",
       "      <td>-0.722567</td>\n",
       "      <td>-0.646673</td>\n",
       "      <td>1.687734</td>\n",
       "      <td>0.190708</td>\n",
       "      <td>0.056843</td>\n",
       "      <td>1</td>\n",
       "    </tr>\n",
       "    <tr>\n",
       "      <th>1</th>\n",
       "      <td>0.270192</td>\n",
       "      <td>0.268555</td>\n",
       "      <td>0.266964</td>\n",
       "      <td>0.267938</td>\n",
       "      <td>0.271013</td>\n",
       "      <td>0.272346</td>\n",
       "      <td>0.269870</td>\n",
       "      <td>0.266976</td>\n",
       "      <td>0.266544</td>\n",
       "      <td>0.266766</td>\n",
       "      <td>...</td>\n",
       "      <td>-0.716713</td>\n",
       "      <td>-0.090016</td>\n",
       "      <td>-0.861091</td>\n",
       "      <td>-0.537106</td>\n",
       "      <td>-0.722567</td>\n",
       "      <td>-0.646673</td>\n",
       "      <td>1.687734</td>\n",
       "      <td>0.190708</td>\n",
       "      <td>0.056843</td>\n",
       "      <td>0</td>\n",
       "    </tr>\n",
       "    <tr>\n",
       "      <th>2</th>\n",
       "      <td>0.317433</td>\n",
       "      <td>0.316265</td>\n",
       "      <td>0.314948</td>\n",
       "      <td>0.315224</td>\n",
       "      <td>0.316942</td>\n",
       "      <td>0.317764</td>\n",
       "      <td>0.316067</td>\n",
       "      <td>0.313874</td>\n",
       "      <td>0.313301</td>\n",
       "      <td>0.313296</td>\n",
       "      <td>...</td>\n",
       "      <td>-1.282552</td>\n",
       "      <td>-0.088336</td>\n",
       "      <td>-0.935273</td>\n",
       "      <td>-0.631725</td>\n",
       "      <td>-0.832298</td>\n",
       "      <td>-0.814516</td>\n",
       "      <td>1.806660</td>\n",
       "      <td>0.190708</td>\n",
       "      <td>0.056843</td>\n",
       "      <td>1</td>\n",
       "    </tr>\n",
       "    <tr>\n",
       "      <th>3</th>\n",
       "      <td>0.261116</td>\n",
       "      <td>0.259767</td>\n",
       "      <td>0.258384</td>\n",
       "      <td>0.259001</td>\n",
       "      <td>0.261310</td>\n",
       "      <td>0.262417</td>\n",
       "      <td>0.260534</td>\n",
       "      <td>0.258039</td>\n",
       "      <td>0.257246</td>\n",
       "      <td>0.257124</td>\n",
       "      <td>...</td>\n",
       "      <td>-1.282552</td>\n",
       "      <td>-0.088336</td>\n",
       "      <td>-0.935273</td>\n",
       "      <td>-0.631725</td>\n",
       "      <td>-0.832298</td>\n",
       "      <td>-0.814516</td>\n",
       "      <td>1.806660</td>\n",
       "      <td>0.190708</td>\n",
       "      <td>0.056843</td>\n",
       "      <td>0</td>\n",
       "    </tr>\n",
       "    <tr>\n",
       "      <th>4</th>\n",
       "      <td>0.260038</td>\n",
       "      <td>0.258425</td>\n",
       "      <td>0.256544</td>\n",
       "      <td>0.257030</td>\n",
       "      <td>0.259602</td>\n",
       "      <td>0.260786</td>\n",
       "      <td>0.258717</td>\n",
       "      <td>0.256352</td>\n",
       "      <td>0.255902</td>\n",
       "      <td>0.255822</td>\n",
       "      <td>...</td>\n",
       "      <td>-1.206971</td>\n",
       "      <td>0.011420</td>\n",
       "      <td>-0.906182</td>\n",
       "      <td>-0.528757</td>\n",
       "      <td>-0.795031</td>\n",
       "      <td>-0.780242</td>\n",
       "      <td>0.430513</td>\n",
       "      <td>0.190708</td>\n",
       "      <td>0.056843</td>\n",
       "      <td>1</td>\n",
       "    </tr>\n",
       "  </tbody>\n",
       "</table>\n",
       "<p>5 rows × 3580 columns</p>\n",
       "</div>"
      ],
      "text/plain": [
       "   m7497.96  m7496.04  m7494.11  m7492.18  m7490.25  m7488.32  m7486.39  \\\n",
       "0  0.302553  0.301137  0.299748  0.300354  0.302679  0.303799  0.301702   \n",
       "1  0.270192  0.268555  0.266964  0.267938  0.271013  0.272346  0.269870   \n",
       "2  0.317433  0.316265  0.314948  0.315224  0.316942  0.317764  0.316067   \n",
       "3  0.261116  0.259767  0.258384  0.259001  0.261310  0.262417  0.260534   \n",
       "4  0.260038  0.258425  0.256544  0.257030  0.259602  0.260786  0.258717   \n",
       "\n",
       "   m7484.46  m7482.54  m7480.61  ...        LSTD      LSTN      REF1  \\\n",
       "0  0.298936  0.298126  0.298120  ...   -0.716713 -0.090016 -0.861091   \n",
       "1  0.266976  0.266544  0.266766  ...   -0.716713 -0.090016 -0.861091   \n",
       "2  0.313874  0.313301  0.313296  ...   -1.282552 -0.088336 -0.935273   \n",
       "3  0.258039  0.257246  0.257124  ...   -1.282552 -0.088336 -0.935273   \n",
       "4  0.256352  0.255902  0.255822  ...   -1.206971  0.011420 -0.906182   \n",
       "\n",
       "       REF2      REF3      REF7      RELI      TMAP      TMFI  Depth  \n",
       "0 -0.537106 -0.722567 -0.646673  1.687734  0.190708  0.056843      1  \n",
       "1 -0.537106 -0.722567 -0.646673  1.687734  0.190708  0.056843      0  \n",
       "2 -0.631725 -0.832298 -0.814516  1.806660  0.190708  0.056843      1  \n",
       "3 -0.631725 -0.832298 -0.814516  1.806660  0.190708  0.056843      0  \n",
       "4 -0.528757 -0.795031 -0.780242  0.430513  0.190708  0.056843      1  \n",
       "\n",
       "[5 rows x 3580 columns]"
      ]
     },
     "execution_count": 21,
     "metadata": {},
     "output_type": "execute_result"
    }
   ],
   "source": [
    "x_train.head()"
   ]
  },
  {
   "cell_type": "markdown",
   "metadata": {},
   "source": [
    "## Checking and correcting skewness"
   ]
  },
  {
   "cell_type": "code",
   "execution_count": 22,
   "metadata": {
    "collapsed": false
   },
   "outputs": [
    {
     "data": {
      "text/plain": [
       "pandas.core.series.Series"
      ]
     },
     "execution_count": 22,
     "metadata": {},
     "output_type": "execute_result"
    }
   ],
   "source": [
    "type(train.skew())"
   ]
  },
  {
   "cell_type": "code",
   "execution_count": 23,
   "metadata": {
    "collapsed": true
   },
   "outputs": [],
   "source": [
    "skewness = train.skew()"
   ]
  },
  {
   "cell_type": "code",
   "execution_count": 24,
   "metadata": {
    "collapsed": false
   },
   "outputs": [],
   "source": [
    "skewed = skewness.loc[skewness>=2]"
   ]
  },
  {
   "cell_type": "code",
   "execution_count": 25,
   "metadata": {
    "collapsed": false
   },
   "outputs": [
    {
     "data": {
      "text/plain": [
       "CTI     3.852268\n",
       "RELI    2.054392\n",
       "Ca      3.700468\n",
       "P       4.700720\n",
       "SOC     2.168692\n",
       "dtype: float64"
      ]
     },
     "execution_count": 25,
     "metadata": {},
     "output_type": "execute_result"
    }
   ],
   "source": [
    "skewed"
   ]
  },
  {
   "cell_type": "code",
   "execution_count": 26,
   "metadata": {
    "collapsed": false
   },
   "outputs": [
    {
     "data": {
      "text/plain": [
       "3.4653640971270741"
      ]
     },
     "execution_count": 26,
     "metadata": {},
     "output_type": "execute_result"
    }
   ],
   "source": [
    "test[\"CTI\"].skew()"
   ]
  },
  {
   "cell_type": "code",
   "execution_count": 27,
   "metadata": {
    "collapsed": false
   },
   "outputs": [
    {
     "data": {
      "text/plain": [
       "-0.94547152519226108"
      ]
     },
     "execution_count": 27,
     "metadata": {},
     "output_type": "execute_result"
    }
   ],
   "source": [
    "min(x_train[\"CTI\"])"
   ]
  },
  {
   "cell_type": "code",
   "execution_count": 28,
   "metadata": {
    "collapsed": false
   },
   "outputs": [
    {
     "data": {
      "text/plain": [
       "-0.639823317527771"
      ]
     },
     "execution_count": 28,
     "metadata": {},
     "output_type": "execute_result"
    }
   ],
   "source": [
    "min(x_train[\"RELI\"])"
   ]
  },
  {
   "cell_type": "code",
   "execution_count": 29,
   "metadata": {
    "collapsed": false
   },
   "outputs": [
    {
     "data": {
      "text/plain": [
       "-0.85786343346190197"
      ]
     },
     "execution_count": 29,
     "metadata": {},
     "output_type": "execute_result"
    }
   ],
   "source": [
    "min(y_train[\"SOC\"])"
   ]
  },
  {
   "cell_type": "code",
   "execution_count": 30,
   "metadata": {
    "collapsed": false
   },
   "outputs": [
    {
     "name": "stdout",
     "output_type": "stream",
     "text": [
      "-0.418309166159\n",
      "-0.535827761069\n"
     ]
    }
   ],
   "source": [
    "print min(y_train[\"P\"])\n",
    "print min(y_train[\"Ca\"])"
   ]
  },
  {
   "cell_type": "code",
   "execution_count": 31,
   "metadata": {
    "collapsed": false
   },
   "outputs": [
    {
     "name": "stderr",
     "output_type": "stream",
     "text": [
      "/home/greatskull/anaconda2/lib/python2.7/site-packages/ipykernel/__main__.py:5: RuntimeWarning: invalid value encountered in log\n"
     ]
    }
   ],
   "source": [
    "x_train[\"CTI\"] = np.log(x_train[\"CTI\"]+1)\n",
    "x_train[\"RELI\"] = np.log(x_train[\"RELI\"]+1)\n",
    "y_train[\"Ca\"],y_train[\"P\"],y_train[\"SOC\"] = np.log(y_train[\"Ca\"]+1),np.log(y_train[\"P\"]+1),np.log(y_train[\"SOC\"]+1)\n",
    "\n",
    "test[\"CTI\"],test[\"RELI\"] = np.log(test[\"CTI\"]+1),np.log(test[\"RELI\"]+1)"
   ]
  },
  {
   "cell_type": "code",
   "execution_count": 32,
   "metadata": {
    "collapsed": false
   },
   "outputs": [
    {
     "data": {
      "text/plain": [
       "Series([], dtype: float64)"
      ]
     },
     "execution_count": 32,
     "metadata": {},
     "output_type": "execute_result"
    }
   ],
   "source": [
    "skewness = x_train.skew()\n",
    "skewed = skewness.loc[skewness>=2]\n",
    "skewed"
   ]
  },
  {
   "cell_type": "code",
   "execution_count": 33,
   "metadata": {
    "collapsed": false
   },
   "outputs": [
    {
     "data": {
      "text/plain": [
       "P    2.440882\n",
       "dtype: float64"
      ]
     },
     "execution_count": 33,
     "metadata": {},
     "output_type": "execute_result"
    }
   ],
   "source": [
    "skewness = y_train.skew()\n",
    "skewed = skewness.loc[skewness>=2]\n",
    "skewed"
   ]
  },
  {
   "cell_type": "code",
   "execution_count": null,
   "metadata": {
    "collapsed": true
   },
   "outputs": [],
   "source": []
  },
  {
   "cell_type": "code",
   "execution_count": 44,
   "metadata": {
    "collapsed": true
   },
   "outputs": [],
   "source": [
    "from sklearn.model_selection import train_test_split, GridSearchCV"
   ]
  },
  {
   "cell_type": "code",
   "execution_count": 35,
   "metadata": {
    "collapsed": true
   },
   "outputs": [],
   "source": [
    "xs_train,x_test,ys_train,y_test = train_test_split(x_train,y_train,test_size=0.20)"
   ]
  },
  {
   "cell_type": "code",
   "execution_count": 39,
   "metadata": {
    "collapsed": false
   },
   "outputs": [
    {
     "data": {
      "text/plain": [
       "914"
      ]
     },
     "execution_count": 39,
     "metadata": {},
     "output_type": "execute_result"
    }
   ],
   "source": [
    "len(xs_train)"
   ]
  },
  {
   "cell_type": "code",
   "execution_count": 41,
   "metadata": {
    "collapsed": false
   },
   "outputs": [],
   "source": [
    "from sklearn.svm import SVR"
   ]
  },
  {
   "cell_type": "code",
   "execution_count": 152,
   "metadata": {
    "collapsed": true
   },
   "outputs": [],
   "source": [
    "clf_pH = SVR()"
   ]
  },
  {
   "cell_type": "code",
   "execution_count": 153,
   "metadata": {
    "collapsed": true
   },
   "outputs": [],
   "source": [
    "search_grid = {\"kernel\":['rbf','poly'],\"C\":[0.001,0.01,1,10,100],\"epsilon\":[0.01,0.1,1,10]}"
   ]
  },
  {
   "cell_type": "code",
   "execution_count": 154,
   "metadata": {
    "collapsed": true
   },
   "outputs": [],
   "source": [
    "clf_pH_model = GridSearchCV(clf1,param_grid=search_grid)"
   ]
  },
  {
   "cell_type": "code",
   "execution_count": 155,
   "metadata": {
    "collapsed": false
   },
   "outputs": [
    {
     "data": {
      "text/plain": [
       "GridSearchCV(cv=None, error_score='raise',\n",
       "       estimator=SVR(C=1.0, cache_size=200, coef0=0.0, degree=3, epsilon=0.1, gamma='auto',\n",
       "  kernel='rbf', max_iter=-1, shrinking=True, tol=0.001, verbose=False),\n",
       "       fit_params={}, iid=True, n_jobs=1,\n",
       "       param_grid={'kernel': ['rbf', 'poly'], 'C': [0.001, 0.01, 1, 10, 100], 'epsilon': [0.01, 0.1, 1, 10]},\n",
       "       pre_dispatch='2*n_jobs', refit=True, return_train_score=True,\n",
       "       scoring=None, verbose=0)"
      ]
     },
     "execution_count": 155,
     "metadata": {},
     "output_type": "execute_result"
    }
   ],
   "source": [
    "clf_pH_model.fit(xs_train,ys_train[\"pH\"])"
   ]
  },
  {
   "cell_type": "code",
   "execution_count": 156,
   "metadata": {
    "collapsed": false
   },
   "outputs": [
    {
     "data": {
      "text/plain": [
       "0.80587037372069481"
      ]
     },
     "execution_count": 156,
     "metadata": {},
     "output_type": "execute_result"
    }
   ],
   "source": [
    "clf_pH_model.score(xs_train,ys_train[\"pH\"])"
   ]
  },
  {
   "cell_type": "code",
   "execution_count": 157,
   "metadata": {
    "collapsed": false
   },
   "outputs": [
    {
     "data": {
      "text/plain": [
       "0.80878256025096307"
      ]
     },
     "execution_count": 157,
     "metadata": {},
     "output_type": "execute_result"
    }
   ],
   "source": [
    "clf_pH_model.score(x_test,y_test[\"pH\"])"
   ]
  },
  {
   "cell_type": "code",
   "execution_count": null,
   "metadata": {
    "collapsed": true
   },
   "outputs": [],
   "source": []
  },
  {
   "cell_type": "code",
   "execution_count": 57,
   "metadata": {
    "collapsed": true
   },
   "outputs": [],
   "source": [
    "clf_SOC = SVR()\n",
    "search_grid = {\"kernel\":['rbf','poly'],\"C\":[0.001,0.01,1,10,100],\"epsilon\":[0.01,0.1,1,10]}\n",
    "clf_SOC_model = GridSearchCV(clf_SOC,param_grid=search_grid)\n",
    "clf_SOC_model.fit(xs_train,ys_train[\"SOC\"])\n",
    "train_score_SOC = clf_SOC_model.score(xs_train,ys_train[\"SOC\"])\n",
    "test_score_SOC = clf_SOC_model.score(x_test,y_test[\"SOC\"])\n",
    "\n",
    "clf_Ca = SVR()\n",
    "search_grid = {\"kernel\":['rbf','poly'],\"C\":[0.001,0.01,1,10,100],\"epsilon\":[0.01,0.1,1,10]}\n",
    "clf_Ca_model = GridSearchCV(clf_Ca,param_grid=search_grid)\n",
    "clf_Ca_model.fit(xs_train,ys_train[\"Ca\"])\n",
    "train_score_Ca = clf_Ca_model.score(xs_train,ys_train[\"Ca\"])\n",
    "test_score_Ca = clf_Ca_model.score(x_test,y_test[\"Ca\"])\n",
    "\n",
    "clf_P = SVR()\n",
    "search_grid = {\"kernel\":['rbf','poly'],\"C\":[0.001,0.01,1,10,100],\"epsilon\":[0.01,0.1,1,10]}\n",
    "clf_P_model = GridSearchCV(clf_P,param_grid=search_grid)\n",
    "clf_P_model.fit(xs_train,ys_train[\"P\"])\n",
    "train_score_P = clf_P_model.score(xs_train,ys_train[\"P\"])\n",
    "test_score_P = clf_P_model.score(x_test,y_test[\"P\"])\n",
    "\n",
    "clf_Sand = SVR()\n",
    "search_grid = {\"kernel\":['rbf','poly'],\"C\":[0.001,0.01,1,10,100],\"epsilon\":[0.01,0.1,1,10]}\n",
    "clf_Sand_model = GridSearchCV(clf_Sand,param_grid=search_grid)\n",
    "clf_Sand_model.fit(xs_train,ys_train[\"Sand\"])\n",
    "train_score_Sand = clf_Sand_model.score(xs_train,ys_train[\"Sand\"])\n",
    "test_score_Sand = clf_Sand_model.score(x_test,y_test[\"Sand\"])"
   ]
  },
  {
   "cell_type": "code",
   "execution_count": 58,
   "metadata": {
    "collapsed": false
   },
   "outputs": [
    {
     "name": "stdout",
     "output_type": "stream",
     "text": [
      "0.956065101857\n",
      "0.951196885208\n"
     ]
    }
   ],
   "source": [
    "print train_score_SOC\n",
    "print test_score_SOC"
   ]
  },
  {
   "cell_type": "code",
   "execution_count": 59,
   "metadata": {
    "collapsed": false
   },
   "outputs": [
    {
     "name": "stdout",
     "output_type": "stream",
     "text": [
      "0.960036643678\n",
      "0.959080403589\n"
     ]
    }
   ],
   "source": [
    "print train_score_Ca\n",
    "print test_score_Ca"
   ]
  },
  {
   "cell_type": "code",
   "execution_count": 60,
   "metadata": {
    "collapsed": false
   },
   "outputs": [
    {
     "name": "stdout",
     "output_type": "stream",
     "text": [
      "0.28532836497\n",
      "0.362334164344\n"
     ]
    }
   ],
   "source": [
    "print train_score_P\n",
    "print test_score_P"
   ]
  },
  {
   "cell_type": "code",
   "execution_count": 61,
   "metadata": {
    "collapsed": false
   },
   "outputs": [
    {
     "name": "stdout",
     "output_type": "stream",
     "text": [
      "0.854805088125\n",
      "0.853778013036\n"
     ]
    }
   ],
   "source": [
    "print train_score_Sand\n",
    "print test_score_Sand"
   ]
  },
  {
   "cell_type": "code",
   "execution_count": 63,
   "metadata": {
    "collapsed": false
   },
   "outputs": [],
   "source": [
    "from sklearn.ensemble import GradientBoostingRegressor"
   ]
  },
  {
   "cell_type": "code",
   "execution_count": 150,
   "metadata": {
    "collapsed": true
   },
   "outputs": [],
   "source": [
    "search_grid_gbr = {\"learning_rate\":[0.1,1],\"n_estimators\":[10,50,100,150],\"max_depth\":[1,2,3,5,7]}\n",
    "clf_gbr = GradientBoostingRegressor()"
   ]
  },
  {
   "cell_type": "code",
   "execution_count": 151,
   "metadata": {
    "collapsed": false
   },
   "outputs": [
    {
     "name": "stdout",
     "output_type": "stream",
     "text": [
      "0.923901043925\n",
      "0.377704887778\n"
     ]
    }
   ],
   "source": [
    "clf_model_gbr_P = GridSearchCV(clf_gbr,param_grid=search_grid_gbr)\n",
    "clf_model_gbr_P.fit(xs_train,ys_train[\"P\"])\n",
    "print clf_model_gbr_P.score(xs_train,ys_train[\"P\"])\n",
    "print clf_model_gbr_P.score(x_test,y_test[\"P\"])"
   ]
  },
  {
   "cell_type": "code",
   "execution_count": 66,
   "metadata": {
    "collapsed": true
   },
   "outputs": [],
   "source": [
    "from sklearn.neural_network import MLPRegressor"
   ]
  },
  {
   "cell_type": "code",
   "execution_count": 68,
   "metadata": {
    "collapsed": false
   },
   "outputs": [],
   "source": [
    "model_mlp_P = MLPRegressor(hidden_layer_sizes=(700,100),activation=\"logistic\",solver=\"adam\").fit(xs_train,ys_train[\"P\"])"
   ]
  },
  {
   "cell_type": "code",
   "execution_count": 69,
   "metadata": {
    "collapsed": false
   },
   "outputs": [
    {
     "name": "stdout",
     "output_type": "stream",
     "text": [
      "0.00342719427073\n",
      "-0.00942022654336\n"
     ]
    }
   ],
   "source": [
    "print model_mlp_P.score(xs_train,ys_train[\"P\"])\n",
    "print model_mlp_P.score(x_test,y_test[\"P\"])"
   ]
  },
  {
   "cell_type": "code",
   "execution_count": 70,
   "metadata": {
    "collapsed": true
   },
   "outputs": [],
   "source": [
    "model_mlp_P = MLPRegressor(activation=\"logistic\",solver=\"adam\").fit(xs_train,ys_train[\"P\"])"
   ]
  },
  {
   "cell_type": "code",
   "execution_count": 71,
   "metadata": {
    "collapsed": false
   },
   "outputs": [
    {
     "name": "stdout",
     "output_type": "stream",
     "text": [
      "-0.000819691866911\n",
      "0.00302203161729\n"
     ]
    }
   ],
   "source": [
    "print model_mlp_P.score(xs_train,ys_train[\"P\"])\n",
    "print model_mlp_P.score(x_test,y_test[\"P\"])"
   ]
  },
  {
   "cell_type": "code",
   "execution_count": 72,
   "metadata": {
    "collapsed": true
   },
   "outputs": [],
   "source": [
    "model_mlp_P = MLPRegressor(hidden_layer_sizes=(700,100),activation=\"logistic\",solver=\"adam\",alpha=10).fit(xs_train,ys_train[\"P\"])"
   ]
  },
  {
   "cell_type": "code",
   "execution_count": 73,
   "metadata": {
    "collapsed": false
   },
   "outputs": [
    {
     "name": "stdout",
     "output_type": "stream",
     "text": [
      "-0.0082925627594\n",
      "-0.0454199171648\n"
     ]
    }
   ],
   "source": [
    "print model_mlp_P.score(xs_train,ys_train[\"P\"])\n",
    "print model_mlp_P.score(x_test,y_test[\"P\"])"
   ]
  },
  {
   "cell_type": "code",
   "execution_count": 74,
   "metadata": {
    "collapsed": false
   },
   "outputs": [
    {
     "name": "stdout",
     "output_type": "stream",
     "text": [
      "1.0\n",
      "-0.984153875143\n"
     ]
    }
   ],
   "source": [
    "from sklearn.linear_model import LinearRegression\n",
    "clf_lr_P = LinearRegression().fit(xs_train,ys_train[\"P\"])\n",
    "print clf_lr_P.score(xs_train,ys_train[\"P\"])\n",
    "print clf_lr_P.score(x_test,y_test[\"P\"])"
   ]
  },
  {
   "cell_type": "code",
   "execution_count": 86,
   "metadata": {
    "collapsed": false
   },
   "outputs": [],
   "source": [
    "from sklearn.linear_model import Ridge\n",
    "search_grid_ridge = {\"alpha\":[0.01,0.1,1,10,100]}\n",
    "model_ridge_P = Ridge(alpha=0.01)"
   ]
  },
  {
   "cell_type": "code",
   "execution_count": 87,
   "metadata": {
    "collapsed": false
   },
   "outputs": [
    {
     "name": "stdout",
     "output_type": "stream",
     "text": [
      "0.598700638261\n",
      "0.486517425867\n"
     ]
    }
   ],
   "source": [
    "#model_ridge_P = GridSearchCV(clf_ridge_P,param_grid=clf_ridge_P)\n",
    "model_ridge_P.fit(xs_train,ys_train[\"P\"])\n",
    "print model_ridge_P.score(xs_train,ys_train[\"P\"])\n",
    "print model_ridge_P.score(x_test,y_test[\"P\"])"
   ]
  },
  {
   "cell_type": "code",
   "execution_count": 93,
   "metadata": {
    "collapsed": true
   },
   "outputs": [],
   "source": [
    "from sklearn.decomposition import PCA\n",
    "pca = PCA(n_components = 100)"
   ]
  },
  {
   "cell_type": "code",
   "execution_count": 94,
   "metadata": {
    "collapsed": true
   },
   "outputs": [],
   "source": [
    "x_train_reduced = pca.fit_transform(x_train)"
   ]
  },
  {
   "cell_type": "code",
   "execution_count": 95,
   "metadata": {
    "collapsed": true
   },
   "outputs": [],
   "source": [
    "xs_train_r,x_test_r,ys_train_r,y_test_r = train_test_split(x_train_reduced,y_train,test_size=0.2)"
   ]
  },
  {
   "cell_type": "code",
   "execution_count": 96,
   "metadata": {
    "collapsed": true
   },
   "outputs": [],
   "source": [
    "clf_P2 = SVR()\n",
    "search_grid_svr = {\"kernel\":['rbf','poly'],\"C\":[0.001,0.01,1,10,100],\"epsilon\":[0.01,0.1,1,10]}\n",
    "clf_P_model2 = GridSearchCV(clf_P2,param_grid=search_grid)\n",
    "clf_P_model2.fit(xs_train_r,ys_train_r[\"P\"])\n",
    "train_score_P = clf_P_model2.score(xs_train_r,ys_train_r[\"P\"])\n",
    "test_score_P = clf_P_model2.score(x_test_r,y_test_r[\"P\"])"
   ]
  },
  {
   "cell_type": "code",
   "execution_count": 97,
   "metadata": {
    "collapsed": false
   },
   "outputs": [
    {
     "name": "stdout",
     "output_type": "stream",
     "text": [
      "0.728720397745\n",
      "0.248106667367\n"
     ]
    }
   ],
   "source": [
    "print train_score_P\n",
    "print test_score_P"
   ]
  },
  {
   "cell_type": "code",
   "execution_count": 98,
   "metadata": {
    "collapsed": false
   },
   "outputs": [
    {
     "name": "stdout",
     "output_type": "stream",
     "text": [
      "0.28532836497\n",
      "0.362334164344\n"
     ]
    }
   ],
   "source": [
    "\n",
    "clf_P = SVR()\n",
    "search_grid = {\"kernel\":['rbf','poly'],\"C\":[0.001,0.01,1,10,100],\"epsilon\":[0.01,0.1,1,10]}\n",
    "clf_P_model = GridSearchCV(clf_P,param_grid=search_grid)\n",
    "clf_P_model.fit(xs_train,ys_train[\"P\"])\n",
    "train_score_P = clf_P_model.score(xs_train,ys_train[\"P\"])\n",
    "test_score_P = clf_P_model.score(x_test,y_test[\"P\"])\n",
    "print train_score_P\n",
    "print test_score_P"
   ]
  },
  {
   "cell_type": "code",
   "execution_count": 101,
   "metadata": {
    "collapsed": false
   },
   "outputs": [
    {
     "name": "stdout",
     "output_type": "stream",
     "text": [
      "0.454389855778\n",
      "0.230305278763\n"
     ]
    }
   ],
   "source": [
    "from sklearn.neighbors import KNeighborsRegressor\n",
    "clf_knn = KNeighborsRegressor()\n",
    "search_grid_knn = {\"n_neighbors\":range(1,11)}\n",
    "model_knn_P = GridSearchCV(clf_knn,param_grid=search_grid_knn)\n",
    "model_knn_P.fit(xs_train,ys_train[\"P\"])\n",
    "print model_knn_P.score(xs_train,ys_train[\"P\"])\n",
    "print model_knn_P.score(x_test,y_test[\"P\"])"
   ]
  },
  {
   "cell_type": "code",
   "execution_count": 111,
   "metadata": {
    "collapsed": false
   },
   "outputs": [],
   "source": [
    "from sklearn.feature_selection import VarianceThreshold"
   ]
  },
  {
   "cell_type": "code",
   "execution_count": 132,
   "metadata": {
    "collapsed": true
   },
   "outputs": [],
   "source": [
    "selector = VarianceThreshold(0.05)\n",
    "x_train_reduced = selector.fit_transform(x_train)"
   ]
  },
  {
   "cell_type": "code",
   "execution_count": 133,
   "metadata": {
    "collapsed": false
   },
   "outputs": [
    {
     "data": {
      "text/plain": [
       "596"
      ]
     },
     "execution_count": 133,
     "metadata": {},
     "output_type": "execute_result"
    }
   ],
   "source": [
    "len(x_train_reduced[0])"
   ]
  },
  {
   "cell_type": "code",
   "execution_count": 134,
   "metadata": {
    "collapsed": false
   },
   "outputs": [],
   "source": [
    "y_train_reduced = selector.fit_transform(y_train)"
   ]
  },
  {
   "cell_type": "code",
   "execution_count": 137,
   "metadata": {
    "collapsed": false
   },
   "outputs": [
    {
     "data": {
      "text/plain": [
       "5"
      ]
     },
     "execution_count": 137,
     "metadata": {},
     "output_type": "execute_result"
    }
   ],
   "source": [
    "len(y_train_reduced[0])"
   ]
  },
  {
   "cell_type": "code",
   "execution_count": 140,
   "metadata": {
    "collapsed": true
   },
   "outputs": [],
   "source": [
    "from pandas import DataFrame"
   ]
  },
  {
   "cell_type": "code",
   "execution_count": 141,
   "metadata": {
    "collapsed": true
   },
   "outputs": [],
   "source": [
    "x_train_reduced = DataFrame(x_train_reduced)"
   ]
  },
  {
   "cell_type": "code",
   "execution_count": 143,
   "metadata": {
    "collapsed": false
   },
   "outputs": [],
   "source": [
    "y_train_reduced = DataFrame(y_train_reduced)"
   ]
  },
  {
   "cell_type": "code",
   "execution_count": 145,
   "metadata": {
    "collapsed": false
   },
   "outputs": [
    {
     "data": {
      "text/html": [
       "<div>\n",
       "<table border=\"1\" class=\"dataframe\">\n",
       "  <thead>\n",
       "    <tr style=\"text-align: right;\">\n",
       "      <th></th>\n",
       "      <th>0</th>\n",
       "      <th>1</th>\n",
       "      <th>2</th>\n",
       "      <th>3</th>\n",
       "      <th>4</th>\n",
       "    </tr>\n",
       "  </thead>\n",
       "  <tbody>\n",
       "    <tr>\n",
       "      <th>0</th>\n",
       "      <td>-0.350621</td>\n",
       "      <td>-0.042215</td>\n",
       "      <td>-1.129366</td>\n",
       "      <td>0.302515</td>\n",
       "      <td>1.269748</td>\n",
       "    </tr>\n",
       "    <tr>\n",
       "      <th>1</th>\n",
       "      <td>-0.490111</td>\n",
       "      <td>-0.263382</td>\n",
       "      <td>-1.531538</td>\n",
       "      <td>-0.306556</td>\n",
       "      <td>1.692209</td>\n",
       "    </tr>\n",
       "    <tr>\n",
       "      <th>2</th>\n",
       "      <td>-0.285819</td>\n",
       "      <td>-0.254421</td>\n",
       "      <td>-0.259551</td>\n",
       "      <td>0.062178</td>\n",
       "      <td>2.091835</td>\n",
       "    </tr>\n",
       "    <tr>\n",
       "      <th>3</th>\n",
       "      <td>-0.403759</td>\n",
       "      <td>-0.382746</td>\n",
       "      <td>-0.577548</td>\n",
       "      <td>-0.383780</td>\n",
       "      <td>2.118477</td>\n",
       "    </tr>\n",
       "    <tr>\n",
       "      <th>4</th>\n",
       "      <td>-0.576877</td>\n",
       "      <td>-0.010263</td>\n",
       "      <td>-0.699135</td>\n",
       "      <td>-0.372376</td>\n",
       "      <td>2.164148</td>\n",
       "    </tr>\n",
       "  </tbody>\n",
       "</table>\n",
       "</div>"
      ],
      "text/plain": [
       "          0         1         2         3         4\n",
       "0 -0.350621 -0.042215 -1.129366  0.302515  1.269748\n",
       "1 -0.490111 -0.263382 -1.531538 -0.306556  1.692209\n",
       "2 -0.285819 -0.254421 -0.259551  0.062178  2.091835\n",
       "3 -0.403759 -0.382746 -0.577548 -0.383780  2.118477\n",
       "4 -0.576877 -0.010263 -0.699135 -0.372376  2.164148"
      ]
     },
     "execution_count": 145,
     "metadata": {},
     "output_type": "execute_result"
    }
   ],
   "source": [
    "y_train_reduced.head()"
   ]
  },
  {
   "cell_type": "code",
   "execution_count": 146,
   "metadata": {
    "collapsed": true
   },
   "outputs": [],
   "source": [
    "y_train_reduced[\"P\"] = y_train_reduced[1]"
   ]
  },
  {
   "cell_type": "code",
   "execution_count": 147,
   "metadata": {
    "collapsed": true
   },
   "outputs": [],
   "source": [
    "xs_train_r,x_test_r,ys_train_r,y_test_r = train_test_split(x_train_reduced,y_train_reduced,test_size=0.2)"
   ]
  },
  {
   "cell_type": "code",
   "execution_count": 148,
   "metadata": {
    "collapsed": false
   },
   "outputs": [],
   "source": [
    "clf_P3 = SVR()\n",
    "search_grid_svr = {\"kernel\":['rbf','poly'],\"C\":[0.001,0.01,1,10,100],\"epsilon\":[0.01,0.1,1,10]}\n",
    "clf_P_model3 = GridSearchCV(clf_P3,param_grid=search_grid)\n",
    "clf_P_model3.fit(xs_train_r,ys_train_r[\"P\"])\n",
    "train_score_P = clf_P_model3.score(xs_train_r,ys_train_r[\"P\"])\n",
    "test_score_P = clf_P_model3.score(x_test_r,y_test_r[\"P\"])"
   ]
  },
  {
   "cell_type": "code",
   "execution_count": 149,
   "metadata": {
    "collapsed": false
   },
   "outputs": [
    {
     "name": "stdout",
     "output_type": "stream",
     "text": [
      "0.393829957807\n",
      "0.236178108518\n"
     ]
    }
   ],
   "source": [
    "print train_score_P\n",
    "print test_score_P"
   ]
  },
  {
   "cell_type": "code",
   "execution_count": 159,
   "metadata": {
    "collapsed": false
   },
   "outputs": [
    {
     "data": {
      "text/plain": [
       "3580"
      ]
     },
     "execution_count": 159,
     "metadata": {},
     "output_type": "execute_result"
    }
   ],
   "source": [
    "len(xs_train.keys())"
   ]
  },
  {
   "cell_type": "code",
   "execution_count": 173,
   "metadata": {
    "collapsed": false
   },
   "outputs": [
    {
     "name": "stdout",
     "output_type": "stream",
     "text": [
      "1 3568\n"
     ]
    }
   ],
   "source": [
    "c=0\n",
    "for i in test.isnull().sum():\n",
    "    c+=1\n",
    "    if i!=0:\n",
    "        print i,c"
   ]
  },
  {
   "cell_type": "code",
   "execution_count": 175,
   "metadata": {
    "collapsed": false
   },
   "outputs": [],
   "source": [
    "features = list(test.keys())"
   ]
  },
  {
   "cell_type": "code",
   "execution_count": 176,
   "metadata": {
    "collapsed": false
   },
   "outputs": [
    {
     "data": {
      "text/plain": [
       "'ELEV'"
      ]
     },
     "execution_count": 176,
     "metadata": {},
     "output_type": "execute_result"
    }
   ],
   "source": [
    "features[3568]"
   ]
  },
  {
   "cell_type": "code",
   "execution_count": 181,
   "metadata": {
    "collapsed": false
   },
   "outputs": [],
   "source": [
    "test = test.fillna(0)"
   ]
  },
  {
   "cell_type": "code",
   "execution_count": 182,
   "metadata": {
    "collapsed": true
   },
   "outputs": [],
   "source": [
    "c=0\n",
    "for i in test.isnull().sum():\n",
    "    c+=1\n",
    "    if i!=0:\n",
    "        print i,c"
   ]
  },
  {
   "cell_type": "code",
   "execution_count": 184,
   "metadata": {
    "collapsed": true
   },
   "outputs": [],
   "source": [
    "final_vals = pd.DataFrame()"
   ]
  },
  {
   "cell_type": "code",
   "execution_count": 185,
   "metadata": {
    "collapsed": false
   },
   "outputs": [],
   "source": [
    "final_vals[\"pH\"] = clf_pH_model.predict(test)"
   ]
  },
  {
   "cell_type": "code",
   "execution_count": 186,
   "metadata": {
    "collapsed": false
   },
   "outputs": [
    {
     "data": {
      "text/html": [
       "<div>\n",
       "<table border=\"1\" class=\"dataframe\">\n",
       "  <thead>\n",
       "    <tr style=\"text-align: right;\">\n",
       "      <th></th>\n",
       "      <th>pH</th>\n",
       "    </tr>\n",
       "  </thead>\n",
       "  <tbody>\n",
       "    <tr>\n",
       "      <th>0</th>\n",
       "      <td>-0.916711</td>\n",
       "    </tr>\n",
       "    <tr>\n",
       "      <th>1</th>\n",
       "      <td>0.729749</td>\n",
       "    </tr>\n",
       "    <tr>\n",
       "      <th>2</th>\n",
       "      <td>-0.070080</td>\n",
       "    </tr>\n",
       "    <tr>\n",
       "      <th>3</th>\n",
       "      <td>-0.169654</td>\n",
       "    </tr>\n",
       "    <tr>\n",
       "      <th>4</th>\n",
       "      <td>-1.637553</td>\n",
       "    </tr>\n",
       "  </tbody>\n",
       "</table>\n",
       "</div>"
      ],
      "text/plain": [
       "         pH\n",
       "0 -0.916711\n",
       "1  0.729749\n",
       "2 -0.070080\n",
       "3 -0.169654\n",
       "4 -1.637553"
      ]
     },
     "execution_count": 186,
     "metadata": {},
     "output_type": "execute_result"
    }
   ],
   "source": [
    "final_vals.head()"
   ]
  },
  {
   "cell_type": "code",
   "execution_count": 187,
   "metadata": {
    "collapsed": true
   },
   "outputs": [],
   "source": [
    "final_vals[\"Sand\"] = clf_Sand_model.predict(test)"
   ]
  },
  {
   "cell_type": "code",
   "execution_count": 188,
   "metadata": {
    "collapsed": true
   },
   "outputs": [],
   "source": [
    "final_vals[\"SOC\"] = clf_SOC_model.predict(test)"
   ]
  },
  {
   "cell_type": "code",
   "execution_count": 189,
   "metadata": {
    "collapsed": true
   },
   "outputs": [],
   "source": [
    "final_vals[\"SOC\"] = np.exp(final_vals[\"SOC\"])-1"
   ]
  },
  {
   "cell_type": "code",
   "execution_count": 190,
   "metadata": {
    "collapsed": true
   },
   "outputs": [],
   "source": [
    "final_vals[\"Ca\"] = clf_Ca_model.predict(test)"
   ]
  },
  {
   "cell_type": "code",
   "execution_count": 191,
   "metadata": {
    "collapsed": true
   },
   "outputs": [],
   "source": [
    "final_vals[\"Ca\"] = np.exp(final_vals[\"Ca\"])-1"
   ]
  },
  {
   "cell_type": "code",
   "execution_count": 192,
   "metadata": {
    "collapsed": true
   },
   "outputs": [],
   "source": [
    "final_vals[\"P\"] = model_ridge_P.predict(test)"
   ]
  },
  {
   "cell_type": "code",
   "execution_count": 193,
   "metadata": {
    "collapsed": true
   },
   "outputs": [],
   "source": [
    "final_vals[\"P\"] = np.exp(final_vals[\"P\"])-1"
   ]
  },
  {
   "cell_type": "code",
   "execution_count": 194,
   "metadata": {
    "collapsed": false
   },
   "outputs": [
    {
     "data": {
      "text/html": [
       "<div>\n",
       "<table border=\"1\" class=\"dataframe\">\n",
       "  <thead>\n",
       "    <tr style=\"text-align: right;\">\n",
       "      <th></th>\n",
       "      <th>pH</th>\n",
       "      <th>Sand</th>\n",
       "      <th>SOC</th>\n",
       "      <th>Ca</th>\n",
       "      <th>P</th>\n",
       "    </tr>\n",
       "  </thead>\n",
       "  <tbody>\n",
       "    <tr>\n",
       "      <th>0</th>\n",
       "      <td>-0.916711</td>\n",
       "      <td>0.742354</td>\n",
       "      <td>-0.685804</td>\n",
       "      <td>-0.550210</td>\n",
       "      <td>-0.213611</td>\n",
       "    </tr>\n",
       "    <tr>\n",
       "      <th>1</th>\n",
       "      <td>0.729749</td>\n",
       "      <td>-1.235546</td>\n",
       "      <td>-0.066074</td>\n",
       "      <td>0.402692</td>\n",
       "      <td>0.136233</td>\n",
       "    </tr>\n",
       "    <tr>\n",
       "      <th>2</th>\n",
       "      <td>-0.070080</td>\n",
       "      <td>-0.777390</td>\n",
       "      <td>0.105198</td>\n",
       "      <td>-0.182583</td>\n",
       "      <td>-0.143917</td>\n",
       "    </tr>\n",
       "    <tr>\n",
       "      <th>3</th>\n",
       "      <td>-0.169654</td>\n",
       "      <td>-0.899331</td>\n",
       "      <td>0.410645</td>\n",
       "      <td>-0.220460</td>\n",
       "      <td>-0.444302</td>\n",
       "    </tr>\n",
       "    <tr>\n",
       "      <th>4</th>\n",
       "      <td>-1.637553</td>\n",
       "      <td>-0.127514</td>\n",
       "      <td>-0.001272</td>\n",
       "      <td>-0.474828</td>\n",
       "      <td>-0.276737</td>\n",
       "    </tr>\n",
       "  </tbody>\n",
       "</table>\n",
       "</div>"
      ],
      "text/plain": [
       "         pH      Sand       SOC        Ca         P\n",
       "0 -0.916711  0.742354 -0.685804 -0.550210 -0.213611\n",
       "1  0.729749 -1.235546 -0.066074  0.402692  0.136233\n",
       "2 -0.070080 -0.777390  0.105198 -0.182583 -0.143917\n",
       "3 -0.169654 -0.899331  0.410645 -0.220460 -0.444302\n",
       "4 -1.637553 -0.127514 -0.001272 -0.474828 -0.276737"
      ]
     },
     "execution_count": 194,
     "metadata": {},
     "output_type": "execute_result"
    }
   ],
   "source": [
    "final_vals.head()"
   ]
  },
  {
   "cell_type": "code",
   "execution_count": 195,
   "metadata": {
    "collapsed": true
   },
   "outputs": [],
   "source": [
    "test_id = pd.read_csv(\"sorted_test.csv\")"
   ]
  },
  {
   "cell_type": "code",
   "execution_count": 196,
   "metadata": {
    "collapsed": true
   },
   "outputs": [],
   "source": [
    "final_csv = pd.DataFrame()"
   ]
  },
  {
   "cell_type": "code",
   "execution_count": 197,
   "metadata": {
    "collapsed": true
   },
   "outputs": [],
   "source": [
    "final_csv[\"PIDN\"] = test_id[\"PIDN\"]"
   ]
  },
  {
   "cell_type": "code",
   "execution_count": 198,
   "metadata": {
    "collapsed": true
   },
   "outputs": [],
   "source": [
    "final_csv[\"Ca\"] = final_vals[\"Ca\"]"
   ]
  },
  {
   "cell_type": "code",
   "execution_count": 199,
   "metadata": {
    "collapsed": true
   },
   "outputs": [],
   "source": [
    "final_csv[\"P\"] = final_vals[\"P\"]"
   ]
  },
  {
   "cell_type": "code",
   "execution_count": 200,
   "metadata": {
    "collapsed": true
   },
   "outputs": [],
   "source": [
    "final_csv[\"pH\"] = final_vals[\"pH\"]"
   ]
  },
  {
   "cell_type": "code",
   "execution_count": 201,
   "metadata": {
    "collapsed": true
   },
   "outputs": [],
   "source": [
    "final_csv[\"SOC\"] = final_vals[\"SOC\"]"
   ]
  },
  {
   "cell_type": "code",
   "execution_count": 202,
   "metadata": {
    "collapsed": true
   },
   "outputs": [],
   "source": [
    "final_csv[\"Sand\"] = final_vals[\"Sand\"]"
   ]
  },
  {
   "cell_type": "code",
   "execution_count": 203,
   "metadata": {
    "collapsed": false
   },
   "outputs": [
    {
     "data": {
      "text/html": [
       "<div>\n",
       "<table border=\"1\" class=\"dataframe\">\n",
       "  <thead>\n",
       "    <tr style=\"text-align: right;\">\n",
       "      <th></th>\n",
       "      <th>PIDN</th>\n",
       "      <th>Ca</th>\n",
       "      <th>P</th>\n",
       "      <th>pH</th>\n",
       "      <th>SOC</th>\n",
       "      <th>Sand</th>\n",
       "    </tr>\n",
       "  </thead>\n",
       "  <tbody>\n",
       "    <tr>\n",
       "      <th>0</th>\n",
       "      <td>09gt9UK5</td>\n",
       "      <td>-0.550210</td>\n",
       "      <td>-0.213611</td>\n",
       "      <td>-0.916711</td>\n",
       "      <td>-0.685804</td>\n",
       "      <td>0.742354</td>\n",
       "    </tr>\n",
       "    <tr>\n",
       "      <th>1</th>\n",
       "      <td>0BVvxJ6a</td>\n",
       "      <td>0.402692</td>\n",
       "      <td>0.136233</td>\n",
       "      <td>0.729749</td>\n",
       "      <td>-0.066074</td>\n",
       "      <td>-1.235546</td>\n",
       "    </tr>\n",
       "    <tr>\n",
       "      <th>2</th>\n",
       "      <td>0KbdgApg</td>\n",
       "      <td>-0.182583</td>\n",
       "      <td>-0.143917</td>\n",
       "      <td>-0.070080</td>\n",
       "      <td>0.105198</td>\n",
       "      <td>-0.777390</td>\n",
       "    </tr>\n",
       "    <tr>\n",
       "      <th>3</th>\n",
       "      <td>0MnuuduB</td>\n",
       "      <td>-0.220460</td>\n",
       "      <td>-0.444302</td>\n",
       "      <td>-0.169654</td>\n",
       "      <td>0.410645</td>\n",
       "      <td>-0.899331</td>\n",
       "    </tr>\n",
       "    <tr>\n",
       "      <th>4</th>\n",
       "      <td>0PcIsF9z</td>\n",
       "      <td>-0.474828</td>\n",
       "      <td>-0.276737</td>\n",
       "      <td>-1.637553</td>\n",
       "      <td>-0.001272</td>\n",
       "      <td>-0.127514</td>\n",
       "    </tr>\n",
       "  </tbody>\n",
       "</table>\n",
       "</div>"
      ],
      "text/plain": [
       "       PIDN        Ca         P        pH       SOC      Sand\n",
       "0  09gt9UK5 -0.550210 -0.213611 -0.916711 -0.685804  0.742354\n",
       "1  0BVvxJ6a  0.402692  0.136233  0.729749 -0.066074 -1.235546\n",
       "2  0KbdgApg -0.182583 -0.143917 -0.070080  0.105198 -0.777390\n",
       "3  0MnuuduB -0.220460 -0.444302 -0.169654  0.410645 -0.899331\n",
       "4  0PcIsF9z -0.474828 -0.276737 -1.637553 -0.001272 -0.127514"
      ]
     },
     "execution_count": 203,
     "metadata": {},
     "output_type": "execute_result"
    }
   ],
   "source": [
    "final_csv.head()"
   ]
  },
  {
   "cell_type": "code",
   "execution_count": 208,
   "metadata": {
    "collapsed": false
   },
   "outputs": [],
   "source": [
    "DataFrame.to_csv(final_csv,path_or_buf='predict')"
   ]
  },
  {
   "cell_type": "code",
   "execution_count": 206,
   "metadata": {
    "collapsed": false
   },
   "outputs": [
    {
     "data": {
      "text/plain": [
       "727"
      ]
     },
     "execution_count": 206,
     "metadata": {},
     "output_type": "execute_result"
    }
   ],
   "source": [
    "len(final_csv)"
   ]
  },
  {
   "cell_type": "code",
   "execution_count": null,
   "metadata": {
    "collapsed": false
   },
   "outputs": [],
   "source": []
  },
  {
   "cell_type": "code",
   "execution_count": null,
   "metadata": {
    "collapsed": true
   },
   "outputs": [],
   "source": []
  }
 ],
 "metadata": {
  "anaconda-cloud": {},
  "kernelspec": {
   "display_name": "Python [conda root]",
   "language": "python",
   "name": "conda-root-py"
  },
  "language_info": {
   "codemirror_mode": {
    "name": "ipython",
    "version": 2
   },
   "file_extension": ".py",
   "mimetype": "text/x-python",
   "name": "python",
   "nbconvert_exporter": "python",
   "pygments_lexer": "ipython2",
   "version": "2.7.12"
  }
 },
 "nbformat": 4,
 "nbformat_minor": 1
}
